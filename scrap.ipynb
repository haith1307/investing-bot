{
 "cells": [
  {
   "cell_type": "markdown",
   "metadata": {},
   "source": [
    "## Investing bot\r\n",
    "# Data Collection\r\n",
    "\r\n",
    "This notebook is designed to scrap data about stocks online via cafef.vn webpage using Selenium.\r\n",
    "\r\n",
    "Overall, most data from all fields is successfully covered (except for companies working in finance, namely banks, funds which has different data structure; therefore, has not been covered yet).\r\n",
    "\r\n",
    "The auto-process takes around 1200s ~ 200 mins to complete"
   ]
  },
  {
   "cell_type": "code",
   "execution_count": 46,
   "metadata": {},
   "outputs": [],
   "source": [
    "from bs4 import BeautifulSoup\r\n",
    "from selenium import webdriver\r\n",
    "from time import sleep\r\n",
    "from selenium.webdriver.common.keys import Keys\r\n",
    "import pandas as pd\r\n",
    "import numpy as np"
   ]
  },
  {
   "cell_type": "code",
   "execution_count": 87,
   "metadata": {},
   "outputs": [
    {
     "ename": "NoSuchElementException",
     "evalue": "Message: no such element: Unable to locate element: {\"method\":\"css selector\",\"selector\":\"[id=\"a_prev\"]\"}\n  (Session info: chrome=91.0.4472.124)\n",
     "output_type": "error",
     "traceback": [
      "\u001b[1;31m---------------------------------------------------------------------------\u001b[0m",
      "\u001b[1;31mNoSuchElementException\u001b[0m                    Traceback (most recent call last)",
      "\u001b[1;32m<ipython-input-87-602587e2bed6>\u001b[0m in \u001b[0;36m<module>\u001b[1;34m\u001b[0m\n\u001b[0;32m     32\u001b[0m     \u001b[1;31m# get back to 2009\u001b[0m\u001b[1;33m\u001b[0m\u001b[1;33m\u001b[0m\u001b[1;33m\u001b[0m\u001b[0m\n\u001b[0;32m     33\u001b[0m     \u001b[1;32mfor\u001b[0m \u001b[0mi\u001b[0m \u001b[1;32min\u001b[0m \u001b[0mrange\u001b[0m\u001b[1;33m(\u001b[0m\u001b[1;36m8\u001b[0m\u001b[1;33m)\u001b[0m\u001b[1;33m:\u001b[0m\u001b[1;33m\u001b[0m\u001b[1;33m\u001b[0m\u001b[0m\n\u001b[1;32m---> 34\u001b[1;33m         \u001b[0mdriver\u001b[0m\u001b[1;33m.\u001b[0m\u001b[0mfind_element_by_id\u001b[0m\u001b[1;33m(\u001b[0m\u001b[1;34m'a_prev'\u001b[0m\u001b[1;33m)\u001b[0m\u001b[1;33m.\u001b[0m\u001b[0mclick\u001b[0m\u001b[1;33m(\u001b[0m\u001b[1;33m)\u001b[0m\u001b[1;33m\u001b[0m\u001b[1;33m\u001b[0m\u001b[0m\n\u001b[0m\u001b[0;32m     35\u001b[0m         \u001b[0msleep\u001b[0m\u001b[1;33m(\u001b[0m\u001b[1;36m1\u001b[0m\u001b[1;33m)\u001b[0m\u001b[1;33m\u001b[0m\u001b[1;33m\u001b[0m\u001b[0m\n\u001b[0;32m     36\u001b[0m \u001b[1;33m\u001b[0m\u001b[0m\n",
      "\u001b[1;32mC:\\Python38\\lib\\site-packages\\selenium\\webdriver\\remote\\webdriver.py\u001b[0m in \u001b[0;36mfind_element_by_id\u001b[1;34m(self, id_)\u001b[0m\n\u001b[0;32m    358\u001b[0m             \u001b[0melement\u001b[0m \u001b[1;33m=\u001b[0m \u001b[0mdriver\u001b[0m\u001b[1;33m.\u001b[0m\u001b[0mfind_element_by_id\u001b[0m\u001b[1;33m(\u001b[0m\u001b[1;34m'foo'\u001b[0m\u001b[1;33m)\u001b[0m\u001b[1;33m\u001b[0m\u001b[1;33m\u001b[0m\u001b[0m\n\u001b[0;32m    359\u001b[0m         \"\"\"\n\u001b[1;32m--> 360\u001b[1;33m         \u001b[1;32mreturn\u001b[0m \u001b[0mself\u001b[0m\u001b[1;33m.\u001b[0m\u001b[0mfind_element\u001b[0m\u001b[1;33m(\u001b[0m\u001b[0mby\u001b[0m\u001b[1;33m=\u001b[0m\u001b[0mBy\u001b[0m\u001b[1;33m.\u001b[0m\u001b[0mID\u001b[0m\u001b[1;33m,\u001b[0m \u001b[0mvalue\u001b[0m\u001b[1;33m=\u001b[0m\u001b[0mid_\u001b[0m\u001b[1;33m)\u001b[0m\u001b[1;33m\u001b[0m\u001b[1;33m\u001b[0m\u001b[0m\n\u001b[0m\u001b[0;32m    361\u001b[0m \u001b[1;33m\u001b[0m\u001b[0m\n\u001b[0;32m    362\u001b[0m     \u001b[1;32mdef\u001b[0m \u001b[0mfind_elements_by_id\u001b[0m\u001b[1;33m(\u001b[0m\u001b[0mself\u001b[0m\u001b[1;33m,\u001b[0m \u001b[0mid_\u001b[0m\u001b[1;33m)\u001b[0m\u001b[1;33m:\u001b[0m\u001b[1;33m\u001b[0m\u001b[1;33m\u001b[0m\u001b[0m\n",
      "\u001b[1;32mC:\\Python38\\lib\\site-packages\\selenium\\webdriver\\remote\\webdriver.py\u001b[0m in \u001b[0;36mfind_element\u001b[1;34m(self, by, value)\u001b[0m\n\u001b[0;32m    974\u001b[0m                 \u001b[0mby\u001b[0m \u001b[1;33m=\u001b[0m \u001b[0mBy\u001b[0m\u001b[1;33m.\u001b[0m\u001b[0mCSS_SELECTOR\u001b[0m\u001b[1;33m\u001b[0m\u001b[1;33m\u001b[0m\u001b[0m\n\u001b[0;32m    975\u001b[0m                 \u001b[0mvalue\u001b[0m \u001b[1;33m=\u001b[0m \u001b[1;34m'[name=\"%s\"]'\u001b[0m \u001b[1;33m%\u001b[0m \u001b[0mvalue\u001b[0m\u001b[1;33m\u001b[0m\u001b[1;33m\u001b[0m\u001b[0m\n\u001b[1;32m--> 976\u001b[1;33m         return self.execute(Command.FIND_ELEMENT, {\n\u001b[0m\u001b[0;32m    977\u001b[0m             \u001b[1;34m'using'\u001b[0m\u001b[1;33m:\u001b[0m \u001b[0mby\u001b[0m\u001b[1;33m,\u001b[0m\u001b[1;33m\u001b[0m\u001b[1;33m\u001b[0m\u001b[0m\n\u001b[0;32m    978\u001b[0m             'value': value})['value']\n",
      "\u001b[1;32mC:\\Python38\\lib\\site-packages\\selenium\\webdriver\\remote\\webdriver.py\u001b[0m in \u001b[0;36mexecute\u001b[1;34m(self, driver_command, params)\u001b[0m\n\u001b[0;32m    319\u001b[0m         \u001b[0mresponse\u001b[0m \u001b[1;33m=\u001b[0m \u001b[0mself\u001b[0m\u001b[1;33m.\u001b[0m\u001b[0mcommand_executor\u001b[0m\u001b[1;33m.\u001b[0m\u001b[0mexecute\u001b[0m\u001b[1;33m(\u001b[0m\u001b[0mdriver_command\u001b[0m\u001b[1;33m,\u001b[0m \u001b[0mparams\u001b[0m\u001b[1;33m)\u001b[0m\u001b[1;33m\u001b[0m\u001b[1;33m\u001b[0m\u001b[0m\n\u001b[0;32m    320\u001b[0m         \u001b[1;32mif\u001b[0m \u001b[0mresponse\u001b[0m\u001b[1;33m:\u001b[0m\u001b[1;33m\u001b[0m\u001b[1;33m\u001b[0m\u001b[0m\n\u001b[1;32m--> 321\u001b[1;33m             \u001b[0mself\u001b[0m\u001b[1;33m.\u001b[0m\u001b[0merror_handler\u001b[0m\u001b[1;33m.\u001b[0m\u001b[0mcheck_response\u001b[0m\u001b[1;33m(\u001b[0m\u001b[0mresponse\u001b[0m\u001b[1;33m)\u001b[0m\u001b[1;33m\u001b[0m\u001b[1;33m\u001b[0m\u001b[0m\n\u001b[0m\u001b[0;32m    322\u001b[0m             response['value'] = self._unwrap_value(\n\u001b[0;32m    323\u001b[0m                 response.get('value', None))\n",
      "\u001b[1;32mC:\\Python38\\lib\\site-packages\\selenium\\webdriver\\remote\\errorhandler.py\u001b[0m in \u001b[0;36mcheck_response\u001b[1;34m(self, response)\u001b[0m\n\u001b[0;32m    240\u001b[0m                 \u001b[0malert_text\u001b[0m \u001b[1;33m=\u001b[0m \u001b[0mvalue\u001b[0m\u001b[1;33m[\u001b[0m\u001b[1;34m'alert'\u001b[0m\u001b[1;33m]\u001b[0m\u001b[1;33m.\u001b[0m\u001b[0mget\u001b[0m\u001b[1;33m(\u001b[0m\u001b[1;34m'text'\u001b[0m\u001b[1;33m)\u001b[0m\u001b[1;33m\u001b[0m\u001b[1;33m\u001b[0m\u001b[0m\n\u001b[0;32m    241\u001b[0m             \u001b[1;32mraise\u001b[0m \u001b[0mexception_class\u001b[0m\u001b[1;33m(\u001b[0m\u001b[0mmessage\u001b[0m\u001b[1;33m,\u001b[0m \u001b[0mscreen\u001b[0m\u001b[1;33m,\u001b[0m \u001b[0mstacktrace\u001b[0m\u001b[1;33m,\u001b[0m \u001b[0malert_text\u001b[0m\u001b[1;33m)\u001b[0m\u001b[1;33m\u001b[0m\u001b[1;33m\u001b[0m\u001b[0m\n\u001b[1;32m--> 242\u001b[1;33m         \u001b[1;32mraise\u001b[0m \u001b[0mexception_class\u001b[0m\u001b[1;33m(\u001b[0m\u001b[0mmessage\u001b[0m\u001b[1;33m,\u001b[0m \u001b[0mscreen\u001b[0m\u001b[1;33m,\u001b[0m \u001b[0mstacktrace\u001b[0m\u001b[1;33m)\u001b[0m\u001b[1;33m\u001b[0m\u001b[1;33m\u001b[0m\u001b[0m\n\u001b[0m\u001b[0;32m    243\u001b[0m \u001b[1;33m\u001b[0m\u001b[0m\n\u001b[0;32m    244\u001b[0m     \u001b[1;32mdef\u001b[0m \u001b[0m_value_or_default\u001b[0m\u001b[1;33m(\u001b[0m\u001b[0mself\u001b[0m\u001b[1;33m,\u001b[0m \u001b[0mobj\u001b[0m\u001b[1;33m,\u001b[0m \u001b[0mkey\u001b[0m\u001b[1;33m,\u001b[0m \u001b[0mdefault\u001b[0m\u001b[1;33m)\u001b[0m\u001b[1;33m:\u001b[0m\u001b[1;33m\u001b[0m\u001b[1;33m\u001b[0m\u001b[0m\n",
      "\u001b[1;31mNoSuchElementException\u001b[0m: Message: no such element: Unable to locate element: {\"method\":\"css selector\",\"selector\":\"[id=\"a_prev\"]\"}\n  (Session info: chrome=91.0.4472.124)\n"
     ]
    }
   ],
   "source": [
    "'''Get relevant stock name and their field'''\r\n",
    "stock_names = pd.read_csv('stock_field.csv')['Stock Name']\r\n",
    "stock_data = pd.read_csv('stock_field.csv', index_col='Stock Name')\r\n",
    "\r\n",
    "\r\n",
    "'''Web driver'''\r\n",
    "driver = webdriver.Chrome(\"D:\\Study\\Projects\\instagram-bot\\chromedriver.exe\")\r\n",
    "driver.get('https://cafef.vn/')\r\n",
    "sleep(5)\r\n",
    "\r\n",
    "key_metrics = ['EPS', 'BV', 'PE', 'ROA', 'ROE', 'ROS', 'GOS', 'DAR']\r\n",
    "years = ['2009', '2010', '2011', '2012', '2013', '2014', '2015', '2016', '2017', '2018', '2019', '2020']\r\n",
    "for key_metric in key_metrics:\r\n",
    "    for year in years:\r\n",
    "        field = key_metric + '_' + year\r\n",
    "        stock_data[field] = np.nan\r\n",
    "\r\n",
    "def convert_to_float(text):\r\n",
    "    '''Function converts a string to a float if the conversion is right'''\r\n",
    "    try:\r\n",
    "        return float(text)\r\n",
    "    except ValueError:\r\n",
    "        return np.nan\r\n",
    "\r\n",
    "for stock_name in stock_names:\r\n",
    "    # Enter company\r\n",
    "    driver.find_element_by_id('CafeF_SearchKeyword_Company').send_keys(stock_name)\r\n",
    "    sleep(1)\r\n",
    "    driver.find_element_by_id('CafeF_SearchKeyword_Company').send_keys(Keys.ENTER)\r\n",
    "    sleep(2)\r\n",
    "\r\n",
    "    # get back to 2009\r\n",
    "    for i in range(8):\r\n",
    "        driver.find_element_by_id('a_prev').click()\r\n",
    "        sleep(1)\r\n",
    "\r\n",
    "    # get data in current table\r\n",
    "    for i in range(3):\r\n",
    "        for j in range(4):\r\n",
    "            year = driver.find_element_by_id('th' + str(j + 1)).text[-4:]\r\n",
    "            \r\n",
    "            EPS_one_stock = convert_to_float(driver.find_element_by_id('eps_td' + str(j + 1)).text)\r\n",
    "            BV_one_stock = convert_to_float(driver.find_element_by_id('bv_td' + str(j + 1)).text)\r\n",
    "            PE_one_stock = convert_to_float(driver.find_element_by_id('pe_td' + str(j + 1)).text)\r\n",
    "            ROA_one_stock = convert_to_float(driver.find_element_by_id('roa_td' + str(j + 1)).text)\r\n",
    "            ROE_one_stock = convert_to_float(driver.find_element_by_id('roe_td' + str(j + 1)).text)\r\n",
    "            ROS_one_stock = convert_to_float(driver.find_element_by_id('ros_td' + str(j + 1)).text)\r\n",
    "            GOS_one_stock = convert_to_float(driver.find_element_by_id('gos_td' + str(j + 1)).text)\r\n",
    "            DAR_one_stock = convert_to_float(driver.find_element_by_id('dar_td' + str(j + 1)).text)\r\n",
    "\r\n",
    "            stock_data.at[stock_name, 'EPS_' + year] = EPS_one_stock\r\n",
    "            stock_data.at[stock_name, 'BV_' + year] = BV_one_stock\r\n",
    "            stock_data.at[stock_name, 'PE_' + year] = PE_one_stock\r\n",
    "            stock_data.at[stock_name, 'ROA_' + year] = ROA_one_stock\r\n",
    "            stock_data.at[stock_name, 'ROE_' + year] = ROE_one_stock\r\n",
    "            stock_data.at[stock_name, 'ROS_' + year] = ROS_one_stock\r\n",
    "            stock_data.at[stock_name, 'GOS_' + year] = GOS_one_stock\r\n",
    "            stock_data.at[stock_name, 'DAR_' + year] = DAR_one_stock\r\n",
    "\r\n",
    "        # click next to move to later years\r\n",
    "        for k in range(4):\r\n",
    "            driver.find_element_by_id('a_next').click()\r\n",
    "            sleep(1)       \r\n",
    "\r\n",
    "\r\n"
   ]
  },
  {
   "cell_type": "markdown",
   "metadata": {},
   "source": [
    "There is not supposed to have this last cell, since the above case should be able to work fine. However, due to some unknown reason (potentially bad network connection), the auto-process stopped as it reaches the final end of the stock lists.\r\n",
    "\r\n",
    "The last cell takes the remaining stocks as a list (manually copy) then run the same data collection process"
   ]
  },
  {
   "cell_type": "code",
   "execution_count": 97,
   "metadata": {},
   "outputs": [],
   "source": [
    "#remaining_stocks = ['ELC', 'FPT', 'ICT', 'ITD', 'ACB', 'AGR', 'APG', 'BIC', 'BID', 'BMI', 'BSI', 'BVH', 'CTG', 'CTS', 'E1VFVN30', 'EIB', 'FTS', 'FUCTVGF2', 'FUCVREIT', 'FUEMAV30','FUESSV30', 'FUESSV50','FUESSVFL','FUEVFVND','FUEVN100','HCM','HDB','LPB','MBB','MIG','MSB','OCB','OGC','PGI','SSB', 'SSI','STB','TCB','TPB','TVB','TVS','VCB','VCI','VDS','VIB','VIX','VND','VPB','ADG','IBC','KPF','TV2','YEG','DAH','HOT','NVT','VNG']\r\n",
    "\r\n",
    "'''For some reason, the Internet went into trouble in the middle of the list (close to the end), so I make a list of remaining stocks manually and scrap them'''\r\n",
    "remaining_stocks = ['ADG','IBC','KPF','TV2','YEG','DAH','HOT','NVT','VNG']\r\n",
    "for stock_name in remaining_stocks:\r\n",
    "    # Enter company\r\n",
    "    driver.find_element_by_id('CafeF_SearchKeyword_Company').send_keys(stock_name)\r\n",
    "    sleep(1)\r\n",
    "    driver.find_element_by_id('CafeF_SearchKeyword_Company').send_keys(Keys.ENTER)\r\n",
    "    sleep(2)\r\n",
    "\r\n",
    "    # get back to 2009\r\n",
    "    for i in range(8):\r\n",
    "        driver.find_element_by_id('a_prev').click()\r\n",
    "        sleep(1)\r\n",
    "\r\n",
    "    # get data in current table\r\n",
    "    for i in range(3):\r\n",
    "        for j in range(4):\r\n",
    "            year = driver.find_element_by_id('th' + str(j + 1)).text[-4:]\r\n",
    "            \r\n",
    "            EPS_one_stock = convert_to_float(driver.find_element_by_id('eps_td' + str(j + 1)).text)\r\n",
    "            BV_one_stock = convert_to_float(driver.find_element_by_id('bv_td' + str(j + 1)).text)\r\n",
    "            PE_one_stock = convert_to_float(driver.find_element_by_id('pe_td' + str(j + 1)).text)\r\n",
    "            ROA_one_stock = convert_to_float(driver.find_element_by_id('roa_td' + str(j + 1)).text)\r\n",
    "            ROE_one_stock = convert_to_float(driver.find_element_by_id('roe_td' + str(j + 1)).text)\r\n",
    "            ROS_one_stock = convert_to_float(driver.find_element_by_id('ros_td' + str(j + 1)).text)\r\n",
    "            GOS_one_stock = convert_to_float(driver.find_element_by_id('gos_td' + str(j + 1)).text)\r\n",
    "            DAR_one_stock = convert_to_float(driver.find_element_by_id('dar_td' + str(j + 1)).text)\r\n",
    "\r\n",
    "            stock_data.at[stock_name, 'EPS_' + year] = EPS_one_stock\r\n",
    "            stock_data.at[stock_name, 'BV_' + year] = BV_one_stock\r\n",
    "            stock_data.at[stock_name, 'PE_' + year] = PE_one_stock\r\n",
    "            stock_data.at[stock_name, 'ROA_' + year] = ROA_one_stock\r\n",
    "            stock_data.at[stock_name, 'ROE_' + year] = ROE_one_stock\r\n",
    "            stock_data.at[stock_name, 'ROS_' + year] = ROS_one_stock\r\n",
    "            stock_data.at[stock_name, 'GOS_' + year] = GOS_one_stock\r\n",
    "            stock_data.at[stock_name, 'DAR_' + year] = DAR_one_stock\r\n",
    "\r\n",
    "        # click next to move to later years\r\n",
    "        for k in range(4):\r\n",
    "            driver.find_element_by_id('a_next').click()\r\n",
    "            sleep(1)       "
   ]
  }
 ],
 "metadata": {
  "interpreter": {
   "hash": "2db524e06e9f5f4ffedc911c917cb75e12dbc923643829bf417064a77eb14d37"
  },
  "kernelspec": {
   "display_name": "Python 3.8.3 64-bit",
   "name": "python3"
  },
  "language_info": {
   "codemirror_mode": {
    "name": "ipython",
    "version": 3
   },
   "file_extension": ".py",
   "mimetype": "text/x-python",
   "name": "python",
   "nbconvert_exporter": "python",
   "pygments_lexer": "ipython3",
   "version": "3.8.3"
  },
  "orig_nbformat": 4
 },
 "nbformat": 4,
 "nbformat_minor": 2
}